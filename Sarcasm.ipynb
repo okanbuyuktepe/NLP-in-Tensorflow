{
  "nbformat": 4,
  "nbformat_minor": 0,
  "metadata": {
    "colab": {
      "name": "Sarcasm.ipynb",
      "provenance": [],
      "authorship_tag": "ABX9TyO7QaRzeKYMvY80E+xirOZN",
      "include_colab_link": true
    },
    "kernelspec": {
      "name": "python3",
      "display_name": "Python 3"
    }
  },
  "cells": [
    {
      "cell_type": "markdown",
      "metadata": {
        "id": "view-in-github",
        "colab_type": "text"
      },
      "source": [
        "<a href=\"https://colab.research.google.com/github/okanbuyuktepe/NLP-in-Tensorflow/blob/master/Sarcasm.ipynb\" target=\"_parent\"><img src=\"https://colab.research.google.com/assets/colab-badge.svg\" alt=\"Open In Colab\"/></a>"
      ]
    },
    {
      "cell_type": "code",
      "metadata": {
        "id": "ZDIq2Q8n9SC5",
        "colab_type": "code",
        "colab": {}
      },
      "source": [
        "# Run this to ensure TensorFlow 2.x is used\n",
        "try:\n",
        "  # %tensorflow_version only exists in Colab.\n",
        "  %tensorflow_version 2.x\n",
        "except Exception:\n",
        "  pass"
      ],
      "execution_count": 0,
      "outputs": []
    },
    {
      "cell_type": "code",
      "metadata": {
        "id": "esvddA5NlKE3",
        "colab_type": "code",
        "colab": {}
      },
      "source": [
        "import json\n",
        "import tensorflow as tf\n",
        "import numpy as np\n",
        "\n",
        "from tensorflow.keras.preprocessing.text import Tokenizer\n",
        "from tensorflow.keras.preprocessing.sequence import pad_sequences"
      ],
      "execution_count": 0,
      "outputs": []
    },
    {
      "cell_type": "code",
      "metadata": {
        "id": "BVt94mnAlj64",
        "colab_type": "code",
        "colab": {}
      },
      "source": [
        "# Option 1 \n",
        "vocab_size = 10000\n",
        "embedding_dim = 16\n",
        "max_length = 32\n",
        "trunc_type ='post'\n",
        "padding_type = 'post'\n",
        "oov_tok = '<OOV>'\n",
        "training_size = 20000"
      ],
      "execution_count": 0,
      "outputs": []
    },
    {
      "cell_type": "code",
      "metadata": {
        "id": "5Z3uWZcHlPyT",
        "colab_type": "code",
        "colab": {}
      },
      "source": [
        "# Option 2\n",
        "vocab_size = 1000\n",
        "embedding_dim = 16\n",
        "max_length = 16\n",
        "trunc_type ='post'\n",
        "padding_type = 'post'\n",
        "oov_tok = '<OOV>'\n",
        "training_size = 20000"
      ],
      "execution_count": 0,
      "outputs": []
    },
    {
      "cell_type": "code",
      "metadata": {
        "id": "p43GZ5_eloeD",
        "colab_type": "code",
        "colab": {}
      },
      "source": [
        "# Option 3\n",
        "vocab_size = 1000\n",
        "embedding_dim = 32\n",
        "max_length = 32\n",
        "trunc_type ='post'\n",
        "padding_type = 'post'\n",
        "oov_tok = '<OOV>'\n",
        "training_size = 20000"
      ],
      "execution_count": 0,
      "outputs": []
    },
    {
      "cell_type": "code",
      "metadata": {
        "id": "zAC4I-J_mLJ_",
        "colab_type": "code",
        "colab": {
          "base_uri": "https://localhost:8080/",
          "height": 204
        },
        "outputId": "3cb327ef-29e1-492f-e089-1b9fdc17391f"
      },
      "source": [
        "!wget --no-check-certificate \\\n",
        "https://storage.googleapis.com/laurencemoroney-blog.appspot.com/sarcasm.json \\\n",
        " -O  /tmp/sarcasm.json"
      ],
      "execution_count": 3,
      "outputs": [
        {
          "output_type": "stream",
          "text": [
            "--2020-06-10 14:10:57--  https://storage.googleapis.com/laurencemoroney-blog.appspot.com/sarcasm.json\n",
            "Resolving storage.googleapis.com (storage.googleapis.com)... 172.217.203.128, 2607:f8b0:400c:c13::80\n",
            "Connecting to storage.googleapis.com (storage.googleapis.com)|172.217.203.128|:443... connected.\n",
            "HTTP request sent, awaiting response... 200 OK\n",
            "Length: 5643545 (5.4M) [application/json]\n",
            "Saving to: ‘/tmp/sarcasm.json’\n",
            "\n",
            "\r/tmp/sarcasm.json     0%[                    ]       0  --.-KB/s               \r/tmp/sarcasm.json   100%[===================>]   5.38M  --.-KB/s    in 0.07s   \n",
            "\n",
            "2020-06-10 14:10:57 (80.9 MB/s) - ‘/tmp/sarcasm.json’ saved [5643545/5643545]\n",
            "\n"
          ],
          "name": "stdout"
        }
      ]
    },
    {
      "cell_type": "code",
      "metadata": {
        "id": "xuthCX6Cm-XA",
        "colab_type": "code",
        "colab": {}
      },
      "source": [
        "with open(\"/tmp/sarcasm.json\", \"r\") as f:\n",
        "  datastore = json.load(f)"
      ],
      "execution_count": 0,
      "outputs": []
    },
    {
      "cell_type": "code",
      "metadata": {
        "id": "oq8DfStRn_jm",
        "colab_type": "code",
        "colab": {}
      },
      "source": [
        "sentences = []\n",
        "labels = []\n",
        "for item in datastore:\n",
        "  sentences.append(item['headline'])\n",
        "  labels.append(item['is_sarcastic'])"
      ],
      "execution_count": 0,
      "outputs": []
    },
    {
      "cell_type": "code",
      "metadata": {
        "id": "nuwL3H4Soh4Z",
        "colab_type": "code",
        "colab": {}
      },
      "source": [
        "# we will use 20000 samples as training, rest for validation\n",
        "\n",
        "training_sentences = np.array(sentences[0:training_size])\n",
        "testing_sentences  = np.array(sentences[training_size:])\n",
        "training_labels    = np.array(labels[0:training_size])\n",
        "testing_labels     = np.array(labels[training_size:])"
      ],
      "execution_count": 0,
      "outputs": []
    },
    {
      "cell_type": "code",
      "metadata": {
        "id": "__HjurBBpXk3",
        "colab_type": "code",
        "colab": {}
      },
      "source": [
        "tokenizer = Tokenizer(num_words=vocab_size, oov_token= oov_tok)\n",
        "tokenizer.fit_on_texts(training_sentences)\n",
        "word_index = tokenizer.word_index\n",
        "\n",
        "training_sequences = tokenizer.texts_to_sequences(training_sentences)\n",
        "training_padded    = pad_sequences(training_sequences, maxlen= max_length, padding = padding_type, truncating= trunc_type)\n",
        "\n",
        "testing_sequences = tokenizer.texts_to_sequences(testing_sentences)\n",
        "testing_padded   = pad_sequences(testing_sequences, maxlen= max_length, padding = padding_type, truncating= trunc_type)"
      ],
      "execution_count": 0,
      "outputs": []
    },
    {
      "cell_type": "code",
      "metadata": {
        "id": "gLw3SZaFrV58",
        "colab_type": "code",
        "colab": {}
      },
      "source": [
        "model = tf.keras.Sequential([\n",
        "                             tf.keras.layers.Embedding(vocab_size, embedding_dim, input_length= max_length),\n",
        "                             tf.keras.layers.GlobalAveragePooling1D(),\n",
        "                             tf.keras.layers.Dense(24, activation='relu'),\n",
        "                             tf.keras.layers.Dense(1, activation='sigmoid')\n",
        "])\n",
        "\n",
        "model.compile(loss='binary_crossentropy', optimizer='adam', metrics = ['accuracy'])"
      ],
      "execution_count": 0,
      "outputs": []
    },
    {
      "cell_type": "code",
      "metadata": {
        "id": "k-lflCBTsZ8u",
        "colab_type": "code",
        "colab": {
          "base_uri": "https://localhost:8080/",
          "height": 289
        },
        "outputId": "d63a614b-1308-456c-c03a-ed482e31c0b7"
      },
      "source": [
        "model.summary()"
      ],
      "execution_count": 47,
      "outputs": [
        {
          "output_type": "stream",
          "text": [
            "Model: \"sequential_3\"\n",
            "_________________________________________________________________\n",
            "Layer (type)                 Output Shape              Param #   \n",
            "=================================================================\n",
            "embedding_3 (Embedding)      (None, 32, 32)            32000     \n",
            "_________________________________________________________________\n",
            "global_average_pooling1d_3 ( (None, 32)                0         \n",
            "_________________________________________________________________\n",
            "dense_6 (Dense)              (None, 24)                792       \n",
            "_________________________________________________________________\n",
            "dense_7 (Dense)              (None, 1)                 25        \n",
            "=================================================================\n",
            "Total params: 32,817\n",
            "Trainable params: 32,817\n",
            "Non-trainable params: 0\n",
            "_________________________________________________________________\n"
          ],
          "name": "stdout"
        }
      ]
    },
    {
      "cell_type": "code",
      "metadata": {
        "id": "y9YqbAghstgl",
        "colab_type": "code",
        "colab": {
          "base_uri": "https://localhost:8080/",
          "height": 1000
        },
        "outputId": "dd101c71-e42f-495e-e676-917577693610"
      },
      "source": [
        "num_epocs = 30\n",
        "history = model.fit(training_padded, training_labels, epochs= num_epocs, verbose = 2, validation_data=(testing_padded, testing_labels))"
      ],
      "execution_count": 48,
      "outputs": [
        {
          "output_type": "stream",
          "text": [
            "Epoch 1/30\n",
            "625/625 - 1s - loss: 0.5529 - accuracy: 0.7031 - val_loss: 0.4212 - val_accuracy: 0.8113\n",
            "Epoch 2/30\n",
            "625/625 - 1s - loss: 0.3886 - accuracy: 0.8230 - val_loss: 0.4007 - val_accuracy: 0.8158\n",
            "Epoch 3/30\n",
            "625/625 - 1s - loss: 0.3668 - accuracy: 0.8324 - val_loss: 0.4001 - val_accuracy: 0.8153\n",
            "Epoch 4/30\n",
            "625/625 - 1s - loss: 0.3614 - accuracy: 0.8351 - val_loss: 0.4047 - val_accuracy: 0.8092\n",
            "Epoch 5/30\n",
            "625/625 - 1s - loss: 0.3574 - accuracy: 0.8381 - val_loss: 0.4047 - val_accuracy: 0.8135\n",
            "Epoch 6/30\n",
            "625/625 - 1s - loss: 0.3539 - accuracy: 0.8395 - val_loss: 0.4086 - val_accuracy: 0.8089\n",
            "Epoch 7/30\n",
            "625/625 - 1s - loss: 0.3532 - accuracy: 0.8392 - val_loss: 0.4130 - val_accuracy: 0.8122\n",
            "Epoch 8/30\n",
            "625/625 - 1s - loss: 0.3530 - accuracy: 0.8378 - val_loss: 0.4117 - val_accuracy: 0.8125\n",
            "Epoch 9/30\n",
            "625/625 - 1s - loss: 0.3523 - accuracy: 0.8378 - val_loss: 0.4095 - val_accuracy: 0.8092\n",
            "Epoch 10/30\n",
            "625/625 - 1s - loss: 0.3505 - accuracy: 0.8396 - val_loss: 0.4128 - val_accuracy: 0.8111\n",
            "Epoch 11/30\n",
            "625/625 - 1s - loss: 0.3494 - accuracy: 0.8405 - val_loss: 0.4073 - val_accuracy: 0.8101\n",
            "Epoch 12/30\n",
            "625/625 - 1s - loss: 0.3492 - accuracy: 0.8399 - val_loss: 0.4077 - val_accuracy: 0.8132\n",
            "Epoch 13/30\n",
            "625/625 - 1s - loss: 0.3480 - accuracy: 0.8421 - val_loss: 0.4055 - val_accuracy: 0.8123\n",
            "Epoch 14/30\n",
            "625/625 - 1s - loss: 0.3475 - accuracy: 0.8406 - val_loss: 0.4095 - val_accuracy: 0.8109\n",
            "Epoch 15/30\n",
            "625/625 - 1s - loss: 0.3461 - accuracy: 0.8427 - val_loss: 0.4049 - val_accuracy: 0.8135\n",
            "Epoch 16/30\n",
            "625/625 - 1s - loss: 0.3450 - accuracy: 0.8433 - val_loss: 0.4031 - val_accuracy: 0.8126\n",
            "Epoch 17/30\n",
            "625/625 - 1s - loss: 0.3427 - accuracy: 0.8443 - val_loss: 0.4018 - val_accuracy: 0.8152\n",
            "Epoch 18/30\n",
            "625/625 - 1s - loss: 0.3402 - accuracy: 0.8460 - val_loss: 0.4006 - val_accuracy: 0.8134\n",
            "Epoch 19/30\n",
            "625/625 - 1s - loss: 0.3378 - accuracy: 0.8474 - val_loss: 0.3991 - val_accuracy: 0.8156\n",
            "Epoch 20/30\n",
            "625/625 - 1s - loss: 0.3347 - accuracy: 0.8482 - val_loss: 0.4081 - val_accuracy: 0.8082\n",
            "Epoch 21/30\n",
            "625/625 - 1s - loss: 0.3325 - accuracy: 0.8490 - val_loss: 0.4040 - val_accuracy: 0.8134\n",
            "Epoch 22/30\n",
            "625/625 - 1s - loss: 0.3292 - accuracy: 0.8526 - val_loss: 0.3968 - val_accuracy: 0.8213\n",
            "Epoch 23/30\n",
            "625/625 - 1s - loss: 0.3268 - accuracy: 0.8533 - val_loss: 0.4057 - val_accuracy: 0.8149\n",
            "Epoch 24/30\n",
            "625/625 - 1s - loss: 0.3240 - accuracy: 0.8554 - val_loss: 0.3951 - val_accuracy: 0.8228\n",
            "Epoch 25/30\n",
            "625/625 - 1s - loss: 0.3210 - accuracy: 0.8552 - val_loss: 0.3981 - val_accuracy: 0.8223\n",
            "Epoch 26/30\n",
            "625/625 - 1s - loss: 0.3193 - accuracy: 0.8583 - val_loss: 0.3965 - val_accuracy: 0.8231\n",
            "Epoch 27/30\n",
            "625/625 - 1s - loss: 0.3169 - accuracy: 0.8594 - val_loss: 0.3981 - val_accuracy: 0.8232\n",
            "Epoch 28/30\n",
            "625/625 - 1s - loss: 0.3152 - accuracy: 0.8591 - val_loss: 0.4016 - val_accuracy: 0.8207\n",
            "Epoch 29/30\n",
            "625/625 - 1s - loss: 0.3138 - accuracy: 0.8615 - val_loss: 0.4000 - val_accuracy: 0.8213\n",
            "Epoch 30/30\n",
            "625/625 - 1s - loss: 0.3114 - accuracy: 0.8631 - val_loss: 0.4011 - val_accuracy: 0.8228\n"
          ],
          "name": "stdout"
        }
      ]
    },
    {
      "cell_type": "code",
      "metadata": {
        "id": "jZOfPNGdtSfS",
        "colab_type": "code",
        "colab": {
          "base_uri": "https://localhost:8080/",
          "height": 541
        },
        "outputId": "2ebda675-cdb1-4c30-800d-27b46b98f573"
      },
      "source": [
        "import matplotlib.pyplot as plt\n",
        "\n",
        "def plot_graphs(history, string):\n",
        "  plt.plot(history.history[string])\n",
        "  plt.plot(history.history['val_' + string])\n",
        "  plt.xlabel('Epochs')\n",
        "  plt.ylabel(string)\n",
        "  plt.legend([string, 'val_' + string])\n",
        "  plt.show()\n",
        "\n",
        "\n",
        "plot_graphs(history, str(\"accuracy\"))\n",
        "plot_graphs(history, 'loss')"
      ],
      "execution_count": 50,
      "outputs": [
        {
          "output_type": "display_data",
          "data": {
            "image/png": "[encoded data removed]",
            "text/plain": [
              "<Figure size 432x288 with 1 Axes>"
            ]
          },
          "metadata": {
            "tags": [],
            "needs_background": "light"
          }
        },
        {
          "output_type": "display_data",
          "data": {
            "image/png": "[encoded data removed]",
            "text/plain": [
              "<Figure size 432x288 with 1 Axes>"
            ]
          },
          "metadata": {
            "tags": [],
            "needs_background": "light"
          }
        }
      ]
    },
    {
      "cell_type": "code",
      "metadata": {
        "colab_type": "code",
        "id": "7SBdAZAenvzL",
        "colab": {
          "base_uri": "https://localhost:8080/",
          "height": 68
        },
        "outputId": "494c8119-b8ba-400e-ed97-daedc36b8698"
      },
      "source": [
        "reverse_word_index = dict([(value, key) for (key, value) in word_index.items()])\n",
        "\n",
        "def decode_sentence(text):\n",
        "    return ' '.join([reverse_word_index.get(i, '?') for i in text])\n",
        "\n",
        "print(decode_sentence(training_padded[0]))\n",
        "print(training_sentences[2])\n",
        "print(labels[2])"
      ],
      "execution_count": 51,
      "outputs": [
        {
          "output_type": "stream",
          "text": [
            "former <OOV> store <OOV> <OOV> over secret <OOV> <OOV> for <OOV> <OOV> ? ? ? ? ? ? ? ? ? ? ? ? ? ? ? ? ? ? ? ?\n",
            "mom starting to fear son's web series closest thing she will have to grandchild\n",
            "1\n"
          ],
          "name": "stdout"
        }
      ]
    },
    {
      "cell_type": "code",
      "metadata": {
        "colab_type": "code",
        "id": "c9MqihtEkzQ9",
        "colab": {
          "base_uri": "https://localhost:8080/",
          "height": 34
        },
        "outputId": "e48070e9-739f-42f9-be5c-0c7a0675bb28"
      },
      "source": [
        "e = model.layers[0]\n",
        "weights = e.get_weights()[0]\n",
        "print(weights.shape) # shape: (vocab_size, embedding_dim)\n"
      ],
      "execution_count": 52,
      "outputs": [
        {
          "output_type": "stream",
          "text": [
            "(1000, 32)\n"
          ],
          "name": "stdout"
        }
      ]
    },
    {
      "cell_type": "code",
      "metadata": {
        "colab_type": "code",
        "id": "LoBXVffknldU",
        "colab": {}
      },
      "source": [
        "import io\n",
        "\n",
        "out_v = io.open('vecs.tsv', 'w', encoding='utf-8')\n",
        "out_m = io.open('meta.tsv', 'w', encoding='utf-8')\n",
        "for word_num in range(1, vocab_size):\n",
        "  word = reverse_word_index[word_num]\n",
        "  embeddings = weights[word_num]\n",
        "  out_m.write(word + \"\\n\")\n",
        "  out_v.write('\\t'.join([str(x) for x in embeddings]) + \"\\n\")\n",
        "out_v.close()\n",
        "out_m.close()"
      ],
      "execution_count": 0,
      "outputs": []
    },
    {
      "cell_type": "code",
      "metadata": {
        "colab_type": "code",
        "id": "U4eZ5HtVnnEE",
        "colab": {}
      },
      "source": [
        "try:\n",
        "  from google.colab import files\n",
        "except ImportError:\n",
        "  pass\n",
        "else:\n",
        "  files.download('vecs.tsv')\n",
        "  files.download('meta.tsv')"
      ],
      "execution_count": 0,
      "outputs": []
    },
    {
      "cell_type": "code",
      "metadata": {
        "colab_type": "code",
        "id": "cG8-ArY-qDcz",
        "colab": {
          "base_uri": "https://localhost:8080/",
          "height": 51
        },
        "outputId": "f498c882-e9cc-4ea9-f9e5-594be1011365"
      },
      "source": [
        "sentence = [\"granny starting to fear spiders in the garden might be real\", \"game of thrones season finale showing this sunday night\"]\n",
        "sequences = tokenizer.texts_to_sequences(sentence)\n",
        "padded = pad_sequences(sequences, maxlen=max_length, padding=padding_type, truncating=trunc_type)\n",
        "print(model.predict(padded))"
      ],
      "execution_count": 55,
      "outputs": [
        {
          "output_type": "stream",
          "text": [
            "[[0.43131143]\n",
            " [0.6551423 ]]\n"
          ],
          "name": "stdout"
        }
      ]
    }
  ]
}